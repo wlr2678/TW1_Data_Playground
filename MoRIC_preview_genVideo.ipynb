{
 "cells": [
  {
   "cell_type": "code",
   "execution_count": 1,
   "metadata": {},
   "outputs": [],
   "source": [
    "# Initialization\n",
    "import glob, os\n",
    "import cv2 as cv\n",
    "import numpy as np"
   ]
  },
  {
   "cell_type": "code",
   "execution_count": 3,
   "metadata": {},
   "outputs": [
    {
     "name": "stdout",
     "output_type": "stream",
     "text": [
      "Image array created\n"
     ]
    }
   ],
   "source": [
    "# Load File List\n",
    "directory = r'C:\\Users\\Darren Wu\\Desktop\\SpaceInfos\\2023\\TW1Cont\\MoRIC\\Batch\\SortedPreviews'\n",
    "directory = directory.replace(os.sep, '/')\n",
    "os.chdir(directory)\n",
    "\n",
    "p = []\n",
    "for filename in glob.glob('*.png'):\n",
    "    img = cv.imread(filename)\n",
    "    height, width, layers = img.shape\n",
    "    size = (width, height)\n",
    "    p.append(img)\n",
    "print('Image array created')"
   ]
  },
  {
   "cell_type": "code",
   "execution_count": 6,
   "metadata": {},
   "outputs": [],
   "source": [
    "out = cv.VideoWriter('glance.mp4', cv.VideoWriter_fourcc(*'h264'), 2, size)\n",
    "for i in range(len(p)):\n",
    "    out.write(p[i])\n",
    "out.release()"
   ]
  }
 ],
 "metadata": {
  "kernelspec": {
   "display_name": "Python 3",
   "language": "python",
   "name": "python3"
  },
  "language_info": {
   "codemirror_mode": {
    "name": "ipython",
    "version": 3
   },
   "file_extension": ".py",
   "mimetype": "text/x-python",
   "name": "python",
   "nbconvert_exporter": "python",
   "pygments_lexer": "ipython3",
   "version": "3.9.7"
  },
  "orig_nbformat": 4
 },
 "nbformat": 4,
 "nbformat_minor": 2
}
