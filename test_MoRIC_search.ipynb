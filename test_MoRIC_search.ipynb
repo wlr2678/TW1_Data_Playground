{
 "cells": [
  {
   "cell_type": "code",
   "execution_count": 19,
   "metadata": {},
   "outputs": [
    {
     "name": "stdout",
     "output_type": "stream",
     "text": [
      "File list loaded.\n"
     ]
    }
   ],
   "source": [
    "import MoRIC_common_func as cf\n",
    "\n",
    "directory = cf.format_path(r'C:\\Users\\Darren Wu\\Desktop\\SpaceInfos\\2023\\TW1Cont\\MoRIC\\Batch')\n",
    "cf.enter_dir(directory)\n",
    "p = cf.load_data_list('*.2CL')"
   ]
  },
  {
   "cell_type": "code",
   "execution_count": null,
   "metadata": {},
   "outputs": [],
   "source": [
    "# Find coordinates at the centre of every frame and reorganize into a single dataframe, saving as pickle file\n",
    "df_centre = cf.pd.DataFrame(columns=['Longitude', 'Latitude'])\n",
    "for path in p:\n",
    "    coor = cf.read_pds(path)[1]\n",
    "    #print(coor)\n",
    "    coor_centre = coor.iloc[[int(1088/2)]]\n",
    "    df_centre.loc[path] = [coor_centre['Longitude'].values[0], coor_centre['Latitude'].values[0]]\n",
    "    print('Added ' + path + ' centre coordinates to list')"
   ]
  },
  {
   "cell_type": "code",
   "execution_count": 27,
   "metadata": {},
   "outputs": [
    {
     "name": "stdout",
     "output_type": "stream",
     "text": [
      "                                                    Longitude  Latitude\n",
      "HX1-Or_GRAS_MoRIC-F-0000_SCI_N_20211116164610_2...   -86.6876   36.2109\n",
      "HX1-Or_GRAS_MoRIC-F-0000_SCI_N_20211117140001_2...   -37.1990   35.6471\n",
      "HX1-Or_GRAS_MoRIC-F-0000_SCI_N_20211118111400_2...    12.2542   35.2276\n",
      "HX1-Or_GRAS_MoRIC-F-0000_SCI_N_20211119082752_2...    61.7111   34.6441\n",
      "HX1-Or_GRAS_MoRIC-F-0000_SCI_N_20211120054152_2...   111.1599   34.1264\n",
      "...                                                       ...       ...\n",
      "HX1-Or_GRAS_MoRIC-F-0047_SCI_N_20211126104507_2...   -96.1398   54.2686\n",
      "HX1-Or_GRAS_MoRIC-F-0047_SCI_N_20211127075905_2...   -46.7342   54.8271\n",
      "HX1-Or_GRAS_MoRIC-F-0047_SCI_N_20211128051258_2...     2.6626   55.3517\n",
      "HX1-Or_GRAS_MoRIC-F-0047_SCI_N_20211129234056_2...   101.4534   56.4083\n",
      "HX1-Or_GRAS_MoRIC-F-0047_SCI_N_20211130205451_2...   150.8125   56.9640\n",
      "\n",
      "[720 rows x 2 columns]\n"
     ]
    }
   ],
   "source": [
    "# Test reading pickle stream\n",
    "df = cf.pd.read_pickle('coor_centre')\n",
    "print(df)"
   ]
  },
  {
   "cell_type": "code",
   "execution_count": null,
   "metadata": {},
   "outputs": [],
   "source": [
    "# Test plotting all image boundaries\n",
    "layout = [['Map']]\n",
    "gs_kw = dict(width_ratios=[1], height_ratios=[1])\n",
    "path_map = cf.format_path(r'C:\\Users\\Darren Wu\\Desktop\\SpaceInfos\\2023\\TW1Cont\\MoRIC\\Batch\\Mars_Viking_ClrMosaic_global_925m-2.jpg')\n",
    "\n",
    "fig_map, axes = cf.create_plot_layout(layout, gs_kw, figsize=(10, 10))\n",
    "cf.plot_base_map(axes['Map'], path_map)\n",
    "for path in p:\n",
    "    coor = cf.read_pds(path)[1]\n",
    "    #print(coor)\n",
    "    upper, other = cf.prune_coor(coor)\n",
    "    print('Plotting ' + path)\n",
    "    cf.plot_coor(axes['Map'], upper, other)\n",
    "\n",
    "cf.plt.show()\n",
    "#cf.plt.close()"
   ]
  }
 ],
 "metadata": {
  "kernelspec": {
   "display_name": "Python 3",
   "language": "python",
   "name": "python3"
  },
  "language_info": {
   "codemirror_mode": {
    "name": "ipython",
    "version": 3
   },
   "file_extension": ".py",
   "mimetype": "text/x-python",
   "name": "python",
   "nbconvert_exporter": "python",
   "pygments_lexer": "ipython3",
   "version": "3.11.3"
  },
  "orig_nbformat": 4
 },
 "nbformat": 4,
 "nbformat_minor": 2
}
